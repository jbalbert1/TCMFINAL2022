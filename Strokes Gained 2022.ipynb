{
 "cells": [
  {
   "cell_type": "code",
   "execution_count": 294,
   "id": "7e9a470e",
   "metadata": {},
   "outputs": [],
   "source": [
    "# Importing Pandas for data analysis and scikit-learn for Min/Max Scaling\n",
    "from sklearn.preprocessing import MinMaxScaler\n",
    "import pandas as pd"
   ]
  },
  {
   "cell_type": "markdown",
   "id": "bc27eb69",
   "metadata": {},
   "source": [
    "### Strokes Gained Off The TEE"
   ]
  },
  {
   "cell_type": "code",
   "execution_count": 295,
   "id": "b811bee5",
   "metadata": {},
   "outputs": [],
   "source": [
    "# Get strokes gained off the tee data from PGA tour website\n",
    "dfOTT = pd.read_html(\"https://www.pgatour.com/stats/stat.02567.html\")[1]\n"
   ]
  },
  {
   "cell_type": "code",
   "execution_count": 296,
   "id": "6e1b8315",
   "metadata": {
    "scrolled": true
   },
   "outputs": [
    {
     "data": {
      "text/plain": [
       "Index(['RANK THIS WEEK', 'RANK LAST WEEK', 'PLAYER NAME', 'ROUNDS', 'AVERAGE',\n",
       "       'TOTAL SG:OTT', 'MEASURED ROUNDS'],\n",
       "      dtype='object')"
      ]
     },
     "execution_count": 296,
     "metadata": {},
     "output_type": "execute_result"
    }
   ],
   "source": [
    "# figuring out all of the header names in the table\n",
    "dfOTT.columns"
   ]
  },
  {
   "cell_type": "code",
   "execution_count": 297,
   "id": "a4649379",
   "metadata": {},
   "outputs": [],
   "source": [
    "# Creating a new final data frame with the only columns we need. Player name and Average Strokes Gained Off The Tee.\n",
    "dfOTTf = dfOTT[['PLAYER NAME', 'AVERAGE']]"
   ]
  },
  {
   "cell_type": "code",
   "execution_count": 298,
   "id": "6121ae2d",
   "metadata": {},
   "outputs": [],
   "source": [
    "# Finding the value to adjust by to make all numbers non negative for each golfer.\n",
    "numofrows = len(dfOTTf) - 1\n",
    "adjustmentvalue = abs(dfOTTf.iloc[numofrows, 1])"
   ]
  },
  {
   "cell_type": "code",
   "execution_count": 299,
   "id": "4b3f4924",
   "metadata": {
    "scrolled": true
   },
   "outputs": [
    {
     "name": "stderr",
     "output_type": "stream",
     "text": [
      "<ipython-input-299-b35e877e1a26>:2: SettingWithCopyWarning: \n",
      "A value is trying to be set on a copy of a slice from a DataFrame.\n",
      "Try using .loc[row_indexer,col_indexer] = value instead\n",
      "\n",
      "See the caveats in the documentation: https://pandas.pydata.org/pandas-docs/stable/user_guide/indexing.html#returning-a-view-versus-a-copy\n",
      "  dfOTTf['AVERAGE'] = dfOTTf['AVERAGE'] + adjustmentvalue\n"
     ]
    }
   ],
   "source": [
    "# Adjustment to make all numbers non-negative by adding the absolute value of the lowest number to each value in the AVERAGE column. This makes each of the numbers in the AVERAGE column positive.\n",
    "dfOTTf['AVERAGE'] = dfOTTf['AVERAGE'] + adjustmentvalue"
   ]
  },
  {
   "cell_type": "code",
   "execution_count": 300,
   "id": "10d8e818",
   "metadata": {},
   "outputs": [
    {
     "data": {
      "text/html": [
       "<div>\n",
       "<style scoped>\n",
       "    .dataframe tbody tr th:only-of-type {\n",
       "        vertical-align: middle;\n",
       "    }\n",
       "\n",
       "    .dataframe tbody tr th {\n",
       "        vertical-align: top;\n",
       "    }\n",
       "\n",
       "    .dataframe thead th {\n",
       "        text-align: right;\n",
       "    }\n",
       "</style>\n",
       "<table border=\"1\" class=\"dataframe\">\n",
       "  <thead>\n",
       "    <tr style=\"text-align: right;\">\n",
       "      <th></th>\n",
       "      <th>PLAYER NAME</th>\n",
       "      <th>AVERAGE</th>\n",
       "    </tr>\n",
       "  </thead>\n",
       "  <tbody>\n",
       "    <tr>\n",
       "      <th>0</th>\n",
       "      <td>Jon Rahm</td>\n",
       "      <td>2.364</td>\n",
       "    </tr>\n",
       "    <tr>\n",
       "      <th>1</th>\n",
       "      <td>Keith Mitchell</td>\n",
       "      <td>1.880</td>\n",
       "    </tr>\n",
       "    <tr>\n",
       "      <th>2</th>\n",
       "      <td>Cameron Young</td>\n",
       "      <td>1.877</td>\n",
       "    </tr>\n",
       "    <tr>\n",
       "      <th>3</th>\n",
       "      <td>Sergio Garcia</td>\n",
       "      <td>1.858</td>\n",
       "    </tr>\n",
       "    <tr>\n",
       "      <th>4</th>\n",
       "      <td>Brendan Steele</td>\n",
       "      <td>1.817</td>\n",
       "    </tr>\n",
       "    <tr>\n",
       "      <th>...</th>\n",
       "      <td>...</td>\n",
       "      <td>...</td>\n",
       "    </tr>\n",
       "    <tr>\n",
       "      <th>200</th>\n",
       "      <td>Brian Gay</td>\n",
       "      <td>0.244</td>\n",
       "    </tr>\n",
       "    <tr>\n",
       "      <th>201</th>\n",
       "      <td>Justin Lower</td>\n",
       "      <td>0.191</td>\n",
       "    </tr>\n",
       "    <tr>\n",
       "      <th>202</th>\n",
       "      <td>Stephan Jaeger</td>\n",
       "      <td>0.040</td>\n",
       "    </tr>\n",
       "    <tr>\n",
       "      <th>203</th>\n",
       "      <td>Wesley Bryan</td>\n",
       "      <td>0.008</td>\n",
       "    </tr>\n",
       "    <tr>\n",
       "      <th>204</th>\n",
       "      <td>Seung-Yul Noh</td>\n",
       "      <td>0.000</td>\n",
       "    </tr>\n",
       "  </tbody>\n",
       "</table>\n",
       "<p>205 rows × 2 columns</p>\n",
       "</div>"
      ],
      "text/plain": [
       "        PLAYER NAME  AVERAGE\n",
       "0          Jon Rahm    2.364\n",
       "1    Keith Mitchell    1.880\n",
       "2     Cameron Young    1.877\n",
       "3     Sergio Garcia    1.858\n",
       "4    Brendan Steele    1.817\n",
       "..              ...      ...\n",
       "200       Brian Gay    0.244\n",
       "201    Justin Lower    0.191\n",
       "202  Stephan Jaeger    0.040\n",
       "203    Wesley Bryan    0.008\n",
       "204   Seung-Yul Noh    0.000\n",
       "\n",
       "[205 rows x 2 columns]"
      ]
     },
     "execution_count": 300,
     "metadata": {},
     "output_type": "execute_result"
    }
   ],
   "source": [
    "# Data frame with adjusted numbers (no negatives)\n",
    "dfOTTf"
   ]
  },
  {
   "cell_type": "code",
   "execution_count": 301,
   "id": "824b7889",
   "metadata": {},
   "outputs": [
    {
     "name": "stderr",
     "output_type": "stream",
     "text": [
      "<ipython-input-301-fb94eb431906>:4: SettingWithCopyWarning: \n",
      "A value is trying to be set on a copy of a slice from a DataFrame.\n",
      "Try using .loc[row_indexer,col_indexer] = value instead\n",
      "\n",
      "See the caveats in the documentation: https://pandas.pydata.org/pandas-docs/stable/user_guide/indexing.html#returning-a-view-versus-a-copy\n",
      "  dfOTTf['AVERAGE_OTT_scaled'] = scaler.fit_transform(dfOTTf['AVERAGE'].values.reshape(-1,1))\n"
     ]
    }
   ],
   "source": [
    "# Min/Max scaling all average strokes gained off the tee numbers to between 0-1. This way strokes gained off of the tee will be on the same scale as all of the other statistics.\n",
    "# Using the scikit-learn module imported above to automate min/max scaling\n",
    "scaler = MinMaxScaler()\n",
    "dfOTTf['AVERAGE_OTT_scaled'] = scaler.fit_transform(dfOTTf['AVERAGE'].values.reshape(-1,1))\n"
   ]
  },
  {
   "cell_type": "code",
   "execution_count": 302,
   "id": "7cc642b4",
   "metadata": {},
   "outputs": [
    {
     "data": {
      "text/html": [
       "<div>\n",
       "<style scoped>\n",
       "    .dataframe tbody tr th:only-of-type {\n",
       "        vertical-align: middle;\n",
       "    }\n",
       "\n",
       "    .dataframe tbody tr th {\n",
       "        vertical-align: top;\n",
       "    }\n",
       "\n",
       "    .dataframe thead th {\n",
       "        text-align: right;\n",
       "    }\n",
       "</style>\n",
       "<table border=\"1\" class=\"dataframe\">\n",
       "  <thead>\n",
       "    <tr style=\"text-align: right;\">\n",
       "      <th></th>\n",
       "      <th>PLAYER NAME</th>\n",
       "      <th>AVERAGE</th>\n",
       "      <th>AVERAGE_OTT_scaled</th>\n",
       "    </tr>\n",
       "  </thead>\n",
       "  <tbody>\n",
       "    <tr>\n",
       "      <th>0</th>\n",
       "      <td>Jon Rahm</td>\n",
       "      <td>2.364</td>\n",
       "      <td>1.000000</td>\n",
       "    </tr>\n",
       "    <tr>\n",
       "      <th>1</th>\n",
       "      <td>Keith Mitchell</td>\n",
       "      <td>1.880</td>\n",
       "      <td>0.795262</td>\n",
       "    </tr>\n",
       "    <tr>\n",
       "      <th>2</th>\n",
       "      <td>Cameron Young</td>\n",
       "      <td>1.877</td>\n",
       "      <td>0.793993</td>\n",
       "    </tr>\n",
       "    <tr>\n",
       "      <th>3</th>\n",
       "      <td>Sergio Garcia</td>\n",
       "      <td>1.858</td>\n",
       "      <td>0.785956</td>\n",
       "    </tr>\n",
       "    <tr>\n",
       "      <th>4</th>\n",
       "      <td>Brendan Steele</td>\n",
       "      <td>1.817</td>\n",
       "      <td>0.768613</td>\n",
       "    </tr>\n",
       "    <tr>\n",
       "      <th>...</th>\n",
       "      <td>...</td>\n",
       "      <td>...</td>\n",
       "      <td>...</td>\n",
       "    </tr>\n",
       "    <tr>\n",
       "      <th>200</th>\n",
       "      <td>Brian Gay</td>\n",
       "      <td>0.244</td>\n",
       "      <td>0.103215</td>\n",
       "    </tr>\n",
       "    <tr>\n",
       "      <th>201</th>\n",
       "      <td>Justin Lower</td>\n",
       "      <td>0.191</td>\n",
       "      <td>0.080795</td>\n",
       "    </tr>\n",
       "    <tr>\n",
       "      <th>202</th>\n",
       "      <td>Stephan Jaeger</td>\n",
       "      <td>0.040</td>\n",
       "      <td>0.016920</td>\n",
       "    </tr>\n",
       "    <tr>\n",
       "      <th>203</th>\n",
       "      <td>Wesley Bryan</td>\n",
       "      <td>0.008</td>\n",
       "      <td>0.003384</td>\n",
       "    </tr>\n",
       "    <tr>\n",
       "      <th>204</th>\n",
       "      <td>Seung-Yul Noh</td>\n",
       "      <td>0.000</td>\n",
       "      <td>0.000000</td>\n",
       "    </tr>\n",
       "  </tbody>\n",
       "</table>\n",
       "<p>205 rows × 3 columns</p>\n",
       "</div>"
      ],
      "text/plain": [
       "        PLAYER NAME  AVERAGE  AVERAGE_OTT_scaled\n",
       "0          Jon Rahm    2.364            1.000000\n",
       "1    Keith Mitchell    1.880            0.795262\n",
       "2     Cameron Young    1.877            0.793993\n",
       "3     Sergio Garcia    1.858            0.785956\n",
       "4    Brendan Steele    1.817            0.768613\n",
       "..              ...      ...                 ...\n",
       "200       Brian Gay    0.244            0.103215\n",
       "201    Justin Lower    0.191            0.080795\n",
       "202  Stephan Jaeger    0.040            0.016920\n",
       "203    Wesley Bryan    0.008            0.003384\n",
       "204   Seung-Yul Noh    0.000            0.000000\n",
       "\n",
       "[205 rows x 3 columns]"
      ]
     },
     "execution_count": 302,
     "metadata": {},
     "output_type": "execute_result"
    }
   ],
   "source": [
    "# New Dataframe\n",
    "dfOTTf"
   ]
  },
  {
   "cell_type": "code",
   "execution_count": 303,
   "id": "46a3f057",
   "metadata": {},
   "outputs": [
    {
     "data": {
      "text/html": [
       "<div>\n",
       "<style scoped>\n",
       "    .dataframe tbody tr th:only-of-type {\n",
       "        vertical-align: middle;\n",
       "    }\n",
       "\n",
       "    .dataframe tbody tr th {\n",
       "        vertical-align: top;\n",
       "    }\n",
       "\n",
       "    .dataframe thead th {\n",
       "        text-align: right;\n",
       "    }\n",
       "</style>\n",
       "<table border=\"1\" class=\"dataframe\">\n",
       "  <thead>\n",
       "    <tr style=\"text-align: right;\">\n",
       "      <th></th>\n",
       "      <th>PLAYER NAME</th>\n",
       "      <th>AVERAGE_OTT_scaled</th>\n",
       "    </tr>\n",
       "  </thead>\n",
       "  <tbody>\n",
       "    <tr>\n",
       "      <th>0</th>\n",
       "      <td>Jon Rahm</td>\n",
       "      <td>1.000000</td>\n",
       "    </tr>\n",
       "    <tr>\n",
       "      <th>1</th>\n",
       "      <td>Keith Mitchell</td>\n",
       "      <td>0.795262</td>\n",
       "    </tr>\n",
       "    <tr>\n",
       "      <th>2</th>\n",
       "      <td>Cameron Young</td>\n",
       "      <td>0.793993</td>\n",
       "    </tr>\n",
       "    <tr>\n",
       "      <th>3</th>\n",
       "      <td>Sergio Garcia</td>\n",
       "      <td>0.785956</td>\n",
       "    </tr>\n",
       "    <tr>\n",
       "      <th>4</th>\n",
       "      <td>Brendan Steele</td>\n",
       "      <td>0.768613</td>\n",
       "    </tr>\n",
       "    <tr>\n",
       "      <th>...</th>\n",
       "      <td>...</td>\n",
       "      <td>...</td>\n",
       "    </tr>\n",
       "    <tr>\n",
       "      <th>200</th>\n",
       "      <td>Brian Gay</td>\n",
       "      <td>0.103215</td>\n",
       "    </tr>\n",
       "    <tr>\n",
       "      <th>201</th>\n",
       "      <td>Justin Lower</td>\n",
       "      <td>0.080795</td>\n",
       "    </tr>\n",
       "    <tr>\n",
       "      <th>202</th>\n",
       "      <td>Stephan Jaeger</td>\n",
       "      <td>0.016920</td>\n",
       "    </tr>\n",
       "    <tr>\n",
       "      <th>203</th>\n",
       "      <td>Wesley Bryan</td>\n",
       "      <td>0.003384</td>\n",
       "    </tr>\n",
       "    <tr>\n",
       "      <th>204</th>\n",
       "      <td>Seung-Yul Noh</td>\n",
       "      <td>0.000000</td>\n",
       "    </tr>\n",
       "  </tbody>\n",
       "</table>\n",
       "<p>205 rows × 2 columns</p>\n",
       "</div>"
      ],
      "text/plain": [
       "        PLAYER NAME  AVERAGE_OTT_scaled\n",
       "0          Jon Rahm            1.000000\n",
       "1    Keith Mitchell            0.795262\n",
       "2     Cameron Young            0.793993\n",
       "3     Sergio Garcia            0.785956\n",
       "4    Brendan Steele            0.768613\n",
       "..              ...                 ...\n",
       "200       Brian Gay            0.103215\n",
       "201    Justin Lower            0.080795\n",
       "202  Stephan Jaeger            0.016920\n",
       "203    Wesley Bryan            0.003384\n",
       "204   Seung-Yul Noh            0.000000\n",
       "\n",
       "[205 rows x 2 columns]"
      ]
     },
     "execution_count": 303,
     "metadata": {},
     "output_type": "execute_result"
    }
   ],
   "source": [
    "dfOTTfinal = dfOTTf[['PLAYER NAME', 'AVERAGE_OTT_scaled']]\n",
    "dfOTTfinal"
   ]
  },
  {
   "cell_type": "markdown",
   "id": "09b53569",
   "metadata": {},
   "source": [
    "### Strokes Gained Approaching The Green"
   ]
  },
  {
   "cell_type": "code",
   "execution_count": 304,
   "id": "1bb387fd",
   "metadata": {},
   "outputs": [],
   "source": [
    "# Get strokes gained approach the green data from pga tour website\n",
    "\n",
    "dfATG = pd.read_html(\"https://www.pgatour.com/stats/stat.02568.html\")[1]"
   ]
  },
  {
   "cell_type": "code",
   "execution_count": 305,
   "id": "94575d17",
   "metadata": {},
   "outputs": [
    {
     "data": {
      "text/plain": [
       "Index(['RANK THIS WEEK', 'RANK LAST WEEK', 'PLAYER NAME', 'ROUNDS', 'AVERAGE',\n",
       "       'TOTAL SG:APP', 'MEASURED ROUNDS'],\n",
       "      dtype='object')"
      ]
     },
     "execution_count": 305,
     "metadata": {},
     "output_type": "execute_result"
    }
   ],
   "source": [
    "# view column names\n",
    "dfATG.columns\n"
   ]
  },
  {
   "cell_type": "code",
   "execution_count": 306,
   "id": "46c6bec6",
   "metadata": {},
   "outputs": [],
   "source": [
    "# Creating a new final data frame with the only columns we need. Player name and Average Strokes Approaching the green.\n",
    "dfATGf = dfATG[['PLAYER NAME', 'AVERAGE']]"
   ]
  },
  {
   "cell_type": "code",
   "execution_count": 307,
   "id": "474c8cbd",
   "metadata": {},
   "outputs": [],
   "source": [
    "# Finding the value to adjust by to make all numbers non negative for each golfer.\n",
    "numofrowsatg = len(dfATGf) - 1\n",
    "adjustmentvalueatg = abs(dfATGf.iloc[numofrowsatg, 1])"
   ]
  },
  {
   "cell_type": "code",
   "execution_count": 308,
   "id": "38e15f2e",
   "metadata": {},
   "outputs": [
    {
     "name": "stderr",
     "output_type": "stream",
     "text": [
      "<ipython-input-308-c21520b62182>:2: SettingWithCopyWarning: \n",
      "A value is trying to be set on a copy of a slice from a DataFrame.\n",
      "Try using .loc[row_indexer,col_indexer] = value instead\n",
      "\n",
      "See the caveats in the documentation: https://pandas.pydata.org/pandas-docs/stable/user_guide/indexing.html#returning-a-view-versus-a-copy\n",
      "  dfATGf['AVERAGE'] = dfATGf['AVERAGE'] + adjustmentvalueatg\n"
     ]
    }
   ],
   "source": [
    "# Adjustment to make all numbers non-negative by adding the absolute value of the lowest number to each value in the AVERAGE column. This makes each of the numbers in the AVERAGE column positive.\n",
    "dfATGf['AVERAGE'] = dfATGf['AVERAGE'] + adjustmentvalueatg"
   ]
  },
  {
   "cell_type": "code",
   "execution_count": 309,
   "id": "c152618a",
   "metadata": {},
   "outputs": [
    {
     "data": {
      "text/html": [
       "<div>\n",
       "<style scoped>\n",
       "    .dataframe tbody tr th:only-of-type {\n",
       "        vertical-align: middle;\n",
       "    }\n",
       "\n",
       "    .dataframe tbody tr th {\n",
       "        vertical-align: top;\n",
       "    }\n",
       "\n",
       "    .dataframe thead th {\n",
       "        text-align: right;\n",
       "    }\n",
       "</style>\n",
       "<table border=\"1\" class=\"dataframe\">\n",
       "  <thead>\n",
       "    <tr style=\"text-align: right;\">\n",
       "      <th></th>\n",
       "      <th>PLAYER NAME</th>\n",
       "      <th>AVERAGE</th>\n",
       "    </tr>\n",
       "  </thead>\n",
       "  <tbody>\n",
       "    <tr>\n",
       "      <th>0</th>\n",
       "      <td>Russell Henley</td>\n",
       "      <td>2.465</td>\n",
       "    </tr>\n",
       "    <tr>\n",
       "      <th>1</th>\n",
       "      <td>Will Zalatoris</td>\n",
       "      <td>2.437</td>\n",
       "    </tr>\n",
       "    <tr>\n",
       "      <th>2</th>\n",
       "      <td>Viktor Hovland</td>\n",
       "      <td>2.408</td>\n",
       "    </tr>\n",
       "    <tr>\n",
       "      <th>3</th>\n",
       "      <td>Justin Thomas</td>\n",
       "      <td>2.324</td>\n",
       "    </tr>\n",
       "    <tr>\n",
       "      <th>4</th>\n",
       "      <td>Shane Lowry</td>\n",
       "      <td>2.312</td>\n",
       "    </tr>\n",
       "    <tr>\n",
       "      <th>...</th>\n",
       "      <td>...</td>\n",
       "      <td>...</td>\n",
       "    </tr>\n",
       "    <tr>\n",
       "      <th>200</th>\n",
       "      <td>Lucas Herbert</td>\n",
       "      <td>0.275</td>\n",
       "    </tr>\n",
       "    <tr>\n",
       "      <th>201</th>\n",
       "      <td>Martin Trainer</td>\n",
       "      <td>0.209</td>\n",
       "    </tr>\n",
       "    <tr>\n",
       "      <th>202</th>\n",
       "      <td>Andrew Landry</td>\n",
       "      <td>0.180</td>\n",
       "    </tr>\n",
       "    <tr>\n",
       "      <th>203</th>\n",
       "      <td>Jonas Blixt</td>\n",
       "      <td>0.124</td>\n",
       "    </tr>\n",
       "    <tr>\n",
       "      <th>204</th>\n",
       "      <td>Brian Gay</td>\n",
       "      <td>0.000</td>\n",
       "    </tr>\n",
       "  </tbody>\n",
       "</table>\n",
       "<p>205 rows × 2 columns</p>\n",
       "</div>"
      ],
      "text/plain": [
       "        PLAYER NAME  AVERAGE\n",
       "0    Russell Henley    2.465\n",
       "1    Will Zalatoris    2.437\n",
       "2    Viktor Hovland    2.408\n",
       "3     Justin Thomas    2.324\n",
       "4       Shane Lowry    2.312\n",
       "..              ...      ...\n",
       "200   Lucas Herbert    0.275\n",
       "201  Martin Trainer    0.209\n",
       "202   Andrew Landry    0.180\n",
       "203     Jonas Blixt    0.124\n",
       "204       Brian Gay    0.000\n",
       "\n",
       "[205 rows x 2 columns]"
      ]
     },
     "execution_count": 309,
     "metadata": {},
     "output_type": "execute_result"
    }
   ],
   "source": [
    "dfATGf"
   ]
  },
  {
   "cell_type": "code",
   "execution_count": 310,
   "id": "cf428a6b",
   "metadata": {},
   "outputs": [
    {
     "name": "stderr",
     "output_type": "stream",
     "text": [
      "<ipython-input-310-9d1c82a869de>:4: SettingWithCopyWarning: \n",
      "A value is trying to be set on a copy of a slice from a DataFrame.\n",
      "Try using .loc[row_indexer,col_indexer] = value instead\n",
      "\n",
      "See the caveats in the documentation: https://pandas.pydata.org/pandas-docs/stable/user_guide/indexing.html#returning-a-view-versus-a-copy\n",
      "  dfATGf['AVERAGE_ATG_scaled'] = scaler.fit_transform(dfATGf['AVERAGE'].values.reshape(-1,1))\n"
     ]
    }
   ],
   "source": [
    "# Min/Max scaling all average strokes gained off the tee numbers to between 0-1. This way strokes gained ATG will be on the same scale as all of the other statistics.\n",
    "# Using the scikit-learn module imported above to automate min/max scaling\n",
    "scaler = MinMaxScaler()\n",
    "dfATGf['AVERAGE_ATG_scaled'] = scaler.fit_transform(dfATGf['AVERAGE'].values.reshape(-1,1))"
   ]
  },
  {
   "cell_type": "code",
   "execution_count": 311,
   "id": "a9614194",
   "metadata": {},
   "outputs": [
    {
     "data": {
      "text/html": [
       "<div>\n",
       "<style scoped>\n",
       "    .dataframe tbody tr th:only-of-type {\n",
       "        vertical-align: middle;\n",
       "    }\n",
       "\n",
       "    .dataframe tbody tr th {\n",
       "        vertical-align: top;\n",
       "    }\n",
       "\n",
       "    .dataframe thead th {\n",
       "        text-align: right;\n",
       "    }\n",
       "</style>\n",
       "<table border=\"1\" class=\"dataframe\">\n",
       "  <thead>\n",
       "    <tr style=\"text-align: right;\">\n",
       "      <th></th>\n",
       "      <th>PLAYER NAME</th>\n",
       "      <th>AVERAGE</th>\n",
       "      <th>AVERAGE_ATG_scaled</th>\n",
       "    </tr>\n",
       "  </thead>\n",
       "  <tbody>\n",
       "    <tr>\n",
       "      <th>0</th>\n",
       "      <td>Russell Henley</td>\n",
       "      <td>2.465</td>\n",
       "      <td>1.000000</td>\n",
       "    </tr>\n",
       "    <tr>\n",
       "      <th>1</th>\n",
       "      <td>Will Zalatoris</td>\n",
       "      <td>2.437</td>\n",
       "      <td>0.988641</td>\n",
       "    </tr>\n",
       "    <tr>\n",
       "      <th>2</th>\n",
       "      <td>Viktor Hovland</td>\n",
       "      <td>2.408</td>\n",
       "      <td>0.976876</td>\n",
       "    </tr>\n",
       "    <tr>\n",
       "      <th>3</th>\n",
       "      <td>Justin Thomas</td>\n",
       "      <td>2.324</td>\n",
       "      <td>0.942799</td>\n",
       "    </tr>\n",
       "    <tr>\n",
       "      <th>4</th>\n",
       "      <td>Shane Lowry</td>\n",
       "      <td>2.312</td>\n",
       "      <td>0.937931</td>\n",
       "    </tr>\n",
       "    <tr>\n",
       "      <th>...</th>\n",
       "      <td>...</td>\n",
       "      <td>...</td>\n",
       "      <td>...</td>\n",
       "    </tr>\n",
       "    <tr>\n",
       "      <th>200</th>\n",
       "      <td>Lucas Herbert</td>\n",
       "      <td>0.275</td>\n",
       "      <td>0.111562</td>\n",
       "    </tr>\n",
       "    <tr>\n",
       "      <th>201</th>\n",
       "      <td>Martin Trainer</td>\n",
       "      <td>0.209</td>\n",
       "      <td>0.084787</td>\n",
       "    </tr>\n",
       "    <tr>\n",
       "      <th>202</th>\n",
       "      <td>Andrew Landry</td>\n",
       "      <td>0.180</td>\n",
       "      <td>0.073022</td>\n",
       "    </tr>\n",
       "    <tr>\n",
       "      <th>203</th>\n",
       "      <td>Jonas Blixt</td>\n",
       "      <td>0.124</td>\n",
       "      <td>0.050304</td>\n",
       "    </tr>\n",
       "    <tr>\n",
       "      <th>204</th>\n",
       "      <td>Brian Gay</td>\n",
       "      <td>0.000</td>\n",
       "      <td>0.000000</td>\n",
       "    </tr>\n",
       "  </tbody>\n",
       "</table>\n",
       "<p>205 rows × 3 columns</p>\n",
       "</div>"
      ],
      "text/plain": [
       "        PLAYER NAME  AVERAGE  AVERAGE_ATG_scaled\n",
       "0    Russell Henley    2.465            1.000000\n",
       "1    Will Zalatoris    2.437            0.988641\n",
       "2    Viktor Hovland    2.408            0.976876\n",
       "3     Justin Thomas    2.324            0.942799\n",
       "4       Shane Lowry    2.312            0.937931\n",
       "..              ...      ...                 ...\n",
       "200   Lucas Herbert    0.275            0.111562\n",
       "201  Martin Trainer    0.209            0.084787\n",
       "202   Andrew Landry    0.180            0.073022\n",
       "203     Jonas Blixt    0.124            0.050304\n",
       "204       Brian Gay    0.000            0.000000\n",
       "\n",
       "[205 rows x 3 columns]"
      ]
     },
     "execution_count": 311,
     "metadata": {},
     "output_type": "execute_result"
    }
   ],
   "source": [
    "dfATGf"
   ]
  },
  {
   "cell_type": "code",
   "execution_count": 312,
   "id": "a4f5d016",
   "metadata": {},
   "outputs": [],
   "source": [
    "dfATGfinal = dfATGf[[\"PLAYER NAME\", \"AVERAGE_ATG_scaled\"]]"
   ]
  },
  {
   "cell_type": "markdown",
   "id": "1c29dd5e",
   "metadata": {},
   "source": [
    "### Strokes Gained Around The Green"
   ]
  },
  {
   "cell_type": "code",
   "execution_count": 313,
   "id": "f4d41957",
   "metadata": {},
   "outputs": [],
   "source": [
    "# Get strokes gained around the green data from pga tour website\n",
    "\n",
    "dfARTG = pd.read_html(\"https://www.pgatour.com/stats/stat.02569.html\")[1]"
   ]
  },
  {
   "cell_type": "code",
   "execution_count": 314,
   "id": "b70590e7",
   "metadata": {},
   "outputs": [
    {
     "data": {
      "text/plain": [
       "Index(['RANK THIS WEEK', 'RANK LAST WEEK', 'PLAYER NAME', 'ROUNDS', 'AVERAGE',\n",
       "       'TOTAL SG:ARG', 'MEASURED ROUNDS'],\n",
       "      dtype='object')"
      ]
     },
     "execution_count": 314,
     "metadata": {},
     "output_type": "execute_result"
    }
   ],
   "source": [
    "dfARTG.columns"
   ]
  },
  {
   "cell_type": "code",
   "execution_count": 315,
   "id": "c4b2c979",
   "metadata": {},
   "outputs": [],
   "source": [
    "# Creating a new final data frame with the only columns we need. Player name and Average Strokes Around the green.\n",
    "dfARTGf = dfARTG[['PLAYER NAME', 'AVERAGE']]"
   ]
  },
  {
   "cell_type": "code",
   "execution_count": 316,
   "id": "019a8f66",
   "metadata": {},
   "outputs": [],
   "source": [
    "# Finding the value to adjust by to make all numbers non negative for each golfer.\n",
    "numofrowsartg = len(dfARTGf) - 1\n",
    "adjustmentvalueartg = abs(dfARTGf.iloc[numofrowsartg, 1])"
   ]
  },
  {
   "cell_type": "code",
   "execution_count": 317,
   "id": "e274fb61",
   "metadata": {},
   "outputs": [
    {
     "name": "stderr",
     "output_type": "stream",
     "text": [
      "<ipython-input-317-8f743cfbf4e2>:2: SettingWithCopyWarning: \n",
      "A value is trying to be set on a copy of a slice from a DataFrame.\n",
      "Try using .loc[row_indexer,col_indexer] = value instead\n",
      "\n",
      "See the caveats in the documentation: https://pandas.pydata.org/pandas-docs/stable/user_guide/indexing.html#returning-a-view-versus-a-copy\n",
      "  dfARTGf['AVERAGE'] = dfARTGf['AVERAGE'] + adjustmentvalueartg\n"
     ]
    }
   ],
   "source": [
    "# Adjustment to make all numbers non-negative by adding the absolute value of the lowest number to each value in the AVERAGE column. This makes each of the numbers in the AVERAGE column positive.\n",
    "dfARTGf['AVERAGE'] = dfARTGf['AVERAGE'] + adjustmentvalueartg"
   ]
  },
  {
   "cell_type": "code",
   "execution_count": 318,
   "id": "aab81a6a",
   "metadata": {},
   "outputs": [
    {
     "data": {
      "text/html": [
       "<div>\n",
       "<style scoped>\n",
       "    .dataframe tbody tr th:only-of-type {\n",
       "        vertical-align: middle;\n",
       "    }\n",
       "\n",
       "    .dataframe tbody tr th {\n",
       "        vertical-align: top;\n",
       "    }\n",
       "\n",
       "    .dataframe thead th {\n",
       "        text-align: right;\n",
       "    }\n",
       "</style>\n",
       "<table border=\"1\" class=\"dataframe\">\n",
       "  <thead>\n",
       "    <tr style=\"text-align: right;\">\n",
       "      <th></th>\n",
       "      <th>PLAYER NAME</th>\n",
       "      <th>AVERAGE</th>\n",
       "    </tr>\n",
       "  </thead>\n",
       "  <tbody>\n",
       "    <tr>\n",
       "      <th>0</th>\n",
       "      <td>Jim Knous</td>\n",
       "      <td>1.597</td>\n",
       "    </tr>\n",
       "    <tr>\n",
       "      <th>1</th>\n",
       "      <td>Danny Willett</td>\n",
       "      <td>1.502</td>\n",
       "    </tr>\n",
       "    <tr>\n",
       "      <th>2</th>\n",
       "      <td>Matt Kuchar</td>\n",
       "      <td>1.477</td>\n",
       "    </tr>\n",
       "    <tr>\n",
       "      <th>3</th>\n",
       "      <td>Tommy Fleetwood</td>\n",
       "      <td>1.403</td>\n",
       "    </tr>\n",
       "    <tr>\n",
       "      <th>4</th>\n",
       "      <td>Matt Jones</td>\n",
       "      <td>1.395</td>\n",
       "    </tr>\n",
       "    <tr>\n",
       "      <th>...</th>\n",
       "      <td>...</td>\n",
       "      <td>...</td>\n",
       "    </tr>\n",
       "    <tr>\n",
       "      <th>200</th>\n",
       "      <td>Carlos Ortiz</td>\n",
       "      <td>0.251</td>\n",
       "    </tr>\n",
       "    <tr>\n",
       "      <th>201</th>\n",
       "      <td>Callum Tarren</td>\n",
       "      <td>0.177</td>\n",
       "    </tr>\n",
       "    <tr>\n",
       "      <th>202</th>\n",
       "      <td>Hudson Swafford</td>\n",
       "      <td>0.153</td>\n",
       "    </tr>\n",
       "    <tr>\n",
       "      <th>203</th>\n",
       "      <td>Seth Reeves</td>\n",
       "      <td>0.139</td>\n",
       "    </tr>\n",
       "    <tr>\n",
       "      <th>204</th>\n",
       "      <td>Viktor Hovland</td>\n",
       "      <td>0.000</td>\n",
       "    </tr>\n",
       "  </tbody>\n",
       "</table>\n",
       "<p>205 rows × 2 columns</p>\n",
       "</div>"
      ],
      "text/plain": [
       "         PLAYER NAME  AVERAGE\n",
       "0          Jim Knous    1.597\n",
       "1      Danny Willett    1.502\n",
       "2        Matt Kuchar    1.477\n",
       "3    Tommy Fleetwood    1.403\n",
       "4         Matt Jones    1.395\n",
       "..               ...      ...\n",
       "200     Carlos Ortiz    0.251\n",
       "201    Callum Tarren    0.177\n",
       "202  Hudson Swafford    0.153\n",
       "203      Seth Reeves    0.139\n",
       "204   Viktor Hovland    0.000\n",
       "\n",
       "[205 rows x 2 columns]"
      ]
     },
     "execution_count": 318,
     "metadata": {},
     "output_type": "execute_result"
    }
   ],
   "source": [
    "dfARTGf"
   ]
  },
  {
   "cell_type": "code",
   "execution_count": 319,
   "id": "84f6f0a8",
   "metadata": {},
   "outputs": [
    {
     "name": "stderr",
     "output_type": "stream",
     "text": [
      "<ipython-input-319-3cca25d8884b>:4: SettingWithCopyWarning: \n",
      "A value is trying to be set on a copy of a slice from a DataFrame.\n",
      "Try using .loc[row_indexer,col_indexer] = value instead\n",
      "\n",
      "See the caveats in the documentation: https://pandas.pydata.org/pandas-docs/stable/user_guide/indexing.html#returning-a-view-versus-a-copy\n",
      "  dfARTGf['AVERAGE_ARTG_scaled'] = scaler.fit_transform(dfARTGf['AVERAGE'].values.reshape(-1,1))\n"
     ]
    }
   ],
   "source": [
    "# Min/Max scaling all average strokes gained off the tee numbers to between 0-1. This way strokes gained ARTG will be on the same scale as all of the other statistics.\n",
    "# Using the scikit-learn module imported above to automate min/max scaling\n",
    "scaler = MinMaxScaler()\n",
    "dfARTGf['AVERAGE_ARTG_scaled'] = scaler.fit_transform(dfARTGf['AVERAGE'].values.reshape(-1,1))"
   ]
  },
  {
   "cell_type": "code",
   "execution_count": 320,
   "id": "cc5cc1b9",
   "metadata": {},
   "outputs": [
    {
     "data": {
      "text/html": [
       "<div>\n",
       "<style scoped>\n",
       "    .dataframe tbody tr th:only-of-type {\n",
       "        vertical-align: middle;\n",
       "    }\n",
       "\n",
       "    .dataframe tbody tr th {\n",
       "        vertical-align: top;\n",
       "    }\n",
       "\n",
       "    .dataframe thead th {\n",
       "        text-align: right;\n",
       "    }\n",
       "</style>\n",
       "<table border=\"1\" class=\"dataframe\">\n",
       "  <thead>\n",
       "    <tr style=\"text-align: right;\">\n",
       "      <th></th>\n",
       "      <th>PLAYER NAME</th>\n",
       "      <th>AVERAGE</th>\n",
       "      <th>AVERAGE_ARTG_scaled</th>\n",
       "    </tr>\n",
       "  </thead>\n",
       "  <tbody>\n",
       "    <tr>\n",
       "      <th>0</th>\n",
       "      <td>Jim Knous</td>\n",
       "      <td>1.597</td>\n",
       "      <td>1.000000</td>\n",
       "    </tr>\n",
       "    <tr>\n",
       "      <th>1</th>\n",
       "      <td>Danny Willett</td>\n",
       "      <td>1.502</td>\n",
       "      <td>0.940513</td>\n",
       "    </tr>\n",
       "    <tr>\n",
       "      <th>2</th>\n",
       "      <td>Matt Kuchar</td>\n",
       "      <td>1.477</td>\n",
       "      <td>0.924859</td>\n",
       "    </tr>\n",
       "    <tr>\n",
       "      <th>3</th>\n",
       "      <td>Tommy Fleetwood</td>\n",
       "      <td>1.403</td>\n",
       "      <td>0.878522</td>\n",
       "    </tr>\n",
       "    <tr>\n",
       "      <th>4</th>\n",
       "      <td>Matt Jones</td>\n",
       "      <td>1.395</td>\n",
       "      <td>0.873513</td>\n",
       "    </tr>\n",
       "    <tr>\n",
       "      <th>...</th>\n",
       "      <td>...</td>\n",
       "      <td>...</td>\n",
       "      <td>...</td>\n",
       "    </tr>\n",
       "    <tr>\n",
       "      <th>200</th>\n",
       "      <td>Carlos Ortiz</td>\n",
       "      <td>0.251</td>\n",
       "      <td>0.157170</td>\n",
       "    </tr>\n",
       "    <tr>\n",
       "      <th>201</th>\n",
       "      <td>Callum Tarren</td>\n",
       "      <td>0.177</td>\n",
       "      <td>0.110833</td>\n",
       "    </tr>\n",
       "    <tr>\n",
       "      <th>202</th>\n",
       "      <td>Hudson Swafford</td>\n",
       "      <td>0.153</td>\n",
       "      <td>0.095805</td>\n",
       "    </tr>\n",
       "    <tr>\n",
       "      <th>203</th>\n",
       "      <td>Seth Reeves</td>\n",
       "      <td>0.139</td>\n",
       "      <td>0.087038</td>\n",
       "    </tr>\n",
       "    <tr>\n",
       "      <th>204</th>\n",
       "      <td>Viktor Hovland</td>\n",
       "      <td>0.000</td>\n",
       "      <td>0.000000</td>\n",
       "    </tr>\n",
       "  </tbody>\n",
       "</table>\n",
       "<p>205 rows × 3 columns</p>\n",
       "</div>"
      ],
      "text/plain": [
       "         PLAYER NAME  AVERAGE  AVERAGE_ARTG_scaled\n",
       "0          Jim Knous    1.597             1.000000\n",
       "1      Danny Willett    1.502             0.940513\n",
       "2        Matt Kuchar    1.477             0.924859\n",
       "3    Tommy Fleetwood    1.403             0.878522\n",
       "4         Matt Jones    1.395             0.873513\n",
       "..               ...      ...                  ...\n",
       "200     Carlos Ortiz    0.251             0.157170\n",
       "201    Callum Tarren    0.177             0.110833\n",
       "202  Hudson Swafford    0.153             0.095805\n",
       "203      Seth Reeves    0.139             0.087038\n",
       "204   Viktor Hovland    0.000             0.000000\n",
       "\n",
       "[205 rows x 3 columns]"
      ]
     },
     "execution_count": 320,
     "metadata": {},
     "output_type": "execute_result"
    }
   ],
   "source": [
    "dfARTGf"
   ]
  },
  {
   "cell_type": "code",
   "execution_count": 321,
   "id": "fc457dae",
   "metadata": {},
   "outputs": [],
   "source": [
    "dfARTGfinal = dfARTGf[['PLAYER NAME', 'AVERAGE_ARTG_scaled']]"
   ]
  },
  {
   "cell_type": "markdown",
   "id": "2c022dda",
   "metadata": {},
   "source": [
    "### Strokes Gained Putting"
   ]
  },
  {
   "cell_type": "code",
   "execution_count": 322,
   "id": "2d5e6892",
   "metadata": {},
   "outputs": [],
   "source": [
    "# Get strokes gained putting data from pga tour website\n",
    "\n",
    "dfP = pd.read_html(\"https://www.pgatour.com/stats/stat.02564.html\")[1]"
   ]
  },
  {
   "cell_type": "code",
   "execution_count": 323,
   "id": "c6c3e2e6",
   "metadata": {},
   "outputs": [
    {
     "data": {
      "text/plain": [
       "Index(['RANK THIS WEEK', 'RANK LAST WEEK', 'PLAYER NAME', 'ROUNDS', 'AVERAGE',\n",
       "       'TOTAL SG:PUTTING', 'MEASURED ROUNDS'],\n",
       "      dtype='object')"
      ]
     },
     "execution_count": 323,
     "metadata": {},
     "output_type": "execute_result"
    }
   ],
   "source": [
    "dfP.columns"
   ]
  },
  {
   "cell_type": "code",
   "execution_count": 324,
   "id": "5210a04b",
   "metadata": {},
   "outputs": [],
   "source": [
    "# Creating a new final data frame with the only columns we need. Player name and Average Strokes Putting.\n",
    "dfPf = dfP[['PLAYER NAME', 'AVERAGE']]"
   ]
  },
  {
   "cell_type": "code",
   "execution_count": 325,
   "id": "c6056a7b",
   "metadata": {},
   "outputs": [],
   "source": [
    "# Finding the value to adjust by to make all numbers non negative for each golfer.\n",
    "numofrowsp = len(dfPf) - 1\n",
    "adjustmentvaluep = abs(dfPf.iloc[numofrowsp, 1])"
   ]
  },
  {
   "cell_type": "code",
   "execution_count": 326,
   "id": "345dda2d",
   "metadata": {},
   "outputs": [
    {
     "name": "stderr",
     "output_type": "stream",
     "text": [
      "<ipython-input-326-d3500229b8e1>:2: SettingWithCopyWarning: \n",
      "A value is trying to be set on a copy of a slice from a DataFrame.\n",
      "Try using .loc[row_indexer,col_indexer] = value instead\n",
      "\n",
      "See the caveats in the documentation: https://pandas.pydata.org/pandas-docs/stable/user_guide/indexing.html#returning-a-view-versus-a-copy\n",
      "  dfPf['AVERAGE'] = dfPf['AVERAGE'] + adjustmentvaluep\n"
     ]
    }
   ],
   "source": [
    "# Adjustment to make all numbers non-negative by adding the absolute value of the lowest number to each value in the AVERAGE column. This makes each of the numbers in the AVERAGE column positive.\n",
    "dfPf['AVERAGE'] = dfPf['AVERAGE'] + adjustmentvaluep"
   ]
  },
  {
   "cell_type": "code",
   "execution_count": 327,
   "id": "3099f07e",
   "metadata": {},
   "outputs": [
    {
     "data": {
      "text/html": [
       "<div>\n",
       "<style scoped>\n",
       "    .dataframe tbody tr th:only-of-type {\n",
       "        vertical-align: middle;\n",
       "    }\n",
       "\n",
       "    .dataframe tbody tr th {\n",
       "        vertical-align: top;\n",
       "    }\n",
       "\n",
       "    .dataframe thead th {\n",
       "        text-align: right;\n",
       "    }\n",
       "</style>\n",
       "<table border=\"1\" class=\"dataframe\">\n",
       "  <thead>\n",
       "    <tr style=\"text-align: right;\">\n",
       "      <th></th>\n",
       "      <th>PLAYER NAME</th>\n",
       "      <th>AVERAGE</th>\n",
       "    </tr>\n",
       "  </thead>\n",
       "  <tbody>\n",
       "    <tr>\n",
       "      <th>0</th>\n",
       "      <td>Tyrrell Hatton</td>\n",
       "      <td>2.261</td>\n",
       "    </tr>\n",
       "    <tr>\n",
       "      <th>1</th>\n",
       "      <td>Brian Gay</td>\n",
       "      <td>2.206</td>\n",
       "    </tr>\n",
       "    <tr>\n",
       "      <th>2</th>\n",
       "      <td>Cameron Smith</td>\n",
       "      <td>2.060</td>\n",
       "    </tr>\n",
       "    <tr>\n",
       "      <th>3</th>\n",
       "      <td>Lucas Herbert</td>\n",
       "      <td>1.958</td>\n",
       "    </tr>\n",
       "    <tr>\n",
       "      <th>4</th>\n",
       "      <td>Kelly Kraft</td>\n",
       "      <td>1.921</td>\n",
       "    </tr>\n",
       "    <tr>\n",
       "      <th>...</th>\n",
       "      <td>...</td>\n",
       "      <td>...</td>\n",
       "    </tr>\n",
       "    <tr>\n",
       "      <th>200</th>\n",
       "      <td>Joseph Bramlett</td>\n",
       "      <td>0.257</td>\n",
       "    </tr>\n",
       "    <tr>\n",
       "      <th>201</th>\n",
       "      <td>Luke List</td>\n",
       "      <td>0.195</td>\n",
       "    </tr>\n",
       "    <tr>\n",
       "      <th>202</th>\n",
       "      <td>Charl Schwartzel</td>\n",
       "      <td>0.114</td>\n",
       "    </tr>\n",
       "    <tr>\n",
       "      <th>203</th>\n",
       "      <td>Brett Drewitt</td>\n",
       "      <td>0.071</td>\n",
       "    </tr>\n",
       "    <tr>\n",
       "      <th>204</th>\n",
       "      <td>Kyle Stanley</td>\n",
       "      <td>0.000</td>\n",
       "    </tr>\n",
       "  </tbody>\n",
       "</table>\n",
       "<p>205 rows × 2 columns</p>\n",
       "</div>"
      ],
      "text/plain": [
       "          PLAYER NAME  AVERAGE\n",
       "0      Tyrrell Hatton    2.261\n",
       "1           Brian Gay    2.206\n",
       "2       Cameron Smith    2.060\n",
       "3       Lucas Herbert    1.958\n",
       "4         Kelly Kraft    1.921\n",
       "..                ...      ...\n",
       "200   Joseph Bramlett    0.257\n",
       "201         Luke List    0.195\n",
       "202  Charl Schwartzel    0.114\n",
       "203     Brett Drewitt    0.071\n",
       "204      Kyle Stanley    0.000\n",
       "\n",
       "[205 rows x 2 columns]"
      ]
     },
     "execution_count": 327,
     "metadata": {},
     "output_type": "execute_result"
    }
   ],
   "source": [
    "dfPf"
   ]
  },
  {
   "cell_type": "code",
   "execution_count": 328,
   "id": "d4ebaf14",
   "metadata": {},
   "outputs": [
    {
     "name": "stderr",
     "output_type": "stream",
     "text": [
      "<ipython-input-328-65c95212870d>:4: SettingWithCopyWarning: \n",
      "A value is trying to be set on a copy of a slice from a DataFrame.\n",
      "Try using .loc[row_indexer,col_indexer] = value instead\n",
      "\n",
      "See the caveats in the documentation: https://pandas.pydata.org/pandas-docs/stable/user_guide/indexing.html#returning-a-view-versus-a-copy\n",
      "  dfPf['AVERAGE_putting_scaled'] = scaler.fit_transform(dfPf['AVERAGE'].values.reshape(-1,1))\n"
     ]
    }
   ],
   "source": [
    "# Min/Max scaling all average strokes gained off the tee numbers to between 0-1. This way strokes gained putting will be on the same scale as all of the other statistics.\n",
    "# Using the scikit-learn module imported above to automate min/max scaling\n",
    "scaler = MinMaxScaler()\n",
    "dfPf['AVERAGE_putting_scaled'] = scaler.fit_transform(dfPf['AVERAGE'].values.reshape(-1,1))"
   ]
  },
  {
   "cell_type": "code",
   "execution_count": 329,
   "id": "1b0917b2",
   "metadata": {},
   "outputs": [
    {
     "data": {
      "text/html": [
       "<div>\n",
       "<style scoped>\n",
       "    .dataframe tbody tr th:only-of-type {\n",
       "        vertical-align: middle;\n",
       "    }\n",
       "\n",
       "    .dataframe tbody tr th {\n",
       "        vertical-align: top;\n",
       "    }\n",
       "\n",
       "    .dataframe thead th {\n",
       "        text-align: right;\n",
       "    }\n",
       "</style>\n",
       "<table border=\"1\" class=\"dataframe\">\n",
       "  <thead>\n",
       "    <tr style=\"text-align: right;\">\n",
       "      <th></th>\n",
       "      <th>PLAYER NAME</th>\n",
       "      <th>AVERAGE</th>\n",
       "      <th>AVERAGE_putting_scaled</th>\n",
       "    </tr>\n",
       "  </thead>\n",
       "  <tbody>\n",
       "    <tr>\n",
       "      <th>0</th>\n",
       "      <td>Tyrrell Hatton</td>\n",
       "      <td>2.261</td>\n",
       "      <td>1.000000</td>\n",
       "    </tr>\n",
       "    <tr>\n",
       "      <th>1</th>\n",
       "      <td>Brian Gay</td>\n",
       "      <td>2.206</td>\n",
       "      <td>0.975674</td>\n",
       "    </tr>\n",
       "    <tr>\n",
       "      <th>2</th>\n",
       "      <td>Cameron Smith</td>\n",
       "      <td>2.060</td>\n",
       "      <td>0.911101</td>\n",
       "    </tr>\n",
       "    <tr>\n",
       "      <th>3</th>\n",
       "      <td>Lucas Herbert</td>\n",
       "      <td>1.958</td>\n",
       "      <td>0.865989</td>\n",
       "    </tr>\n",
       "    <tr>\n",
       "      <th>4</th>\n",
       "      <td>Kelly Kraft</td>\n",
       "      <td>1.921</td>\n",
       "      <td>0.849624</td>\n",
       "    </tr>\n",
       "    <tr>\n",
       "      <th>...</th>\n",
       "      <td>...</td>\n",
       "      <td>...</td>\n",
       "      <td>...</td>\n",
       "    </tr>\n",
       "    <tr>\n",
       "      <th>200</th>\n",
       "      <td>Joseph Bramlett</td>\n",
       "      <td>0.257</td>\n",
       "      <td>0.113667</td>\n",
       "    </tr>\n",
       "    <tr>\n",
       "      <th>201</th>\n",
       "      <td>Luke List</td>\n",
       "      <td>0.195</td>\n",
       "      <td>0.086245</td>\n",
       "    </tr>\n",
       "    <tr>\n",
       "      <th>202</th>\n",
       "      <td>Charl Schwartzel</td>\n",
       "      <td>0.114</td>\n",
       "      <td>0.050420</td>\n",
       "    </tr>\n",
       "    <tr>\n",
       "      <th>203</th>\n",
       "      <td>Brett Drewitt</td>\n",
       "      <td>0.071</td>\n",
       "      <td>0.031402</td>\n",
       "    </tr>\n",
       "    <tr>\n",
       "      <th>204</th>\n",
       "      <td>Kyle Stanley</td>\n",
       "      <td>0.000</td>\n",
       "      <td>0.000000</td>\n",
       "    </tr>\n",
       "  </tbody>\n",
       "</table>\n",
       "<p>205 rows × 3 columns</p>\n",
       "</div>"
      ],
      "text/plain": [
       "          PLAYER NAME  AVERAGE  AVERAGE_putting_scaled\n",
       "0      Tyrrell Hatton    2.261                1.000000\n",
       "1           Brian Gay    2.206                0.975674\n",
       "2       Cameron Smith    2.060                0.911101\n",
       "3       Lucas Herbert    1.958                0.865989\n",
       "4         Kelly Kraft    1.921                0.849624\n",
       "..                ...      ...                     ...\n",
       "200   Joseph Bramlett    0.257                0.113667\n",
       "201         Luke List    0.195                0.086245\n",
       "202  Charl Schwartzel    0.114                0.050420\n",
       "203     Brett Drewitt    0.071                0.031402\n",
       "204      Kyle Stanley    0.000                0.000000\n",
       "\n",
       "[205 rows x 3 columns]"
      ]
     },
     "execution_count": 329,
     "metadata": {},
     "output_type": "execute_result"
    }
   ],
   "source": [
    "dfPf"
   ]
  },
  {
   "cell_type": "code",
   "execution_count": 330,
   "id": "0f50888a",
   "metadata": {},
   "outputs": [],
   "source": [
    "dfPfinal = dfPf[['PLAYER NAME', 'AVERAGE_putting_scaled']]"
   ]
  },
  {
   "cell_type": "markdown",
   "id": "299eecad",
   "metadata": {},
   "source": [
    "### Create Master Table With All Strokes Gained for Each Player So Far In 2022"
   ]
  },
  {
   "cell_type": "code",
   "execution_count": 331,
   "id": "8bf33cb6",
   "metadata": {},
   "outputs": [
    {
     "name": "stdout",
     "output_type": "stream",
     "text": [
      "Stored 'dfmaster22' (DataFrame)\n"
     ]
    }
   ],
   "source": [
    "dfmaster = dfPfinal.merge(dfOTTfinal, on= \"PLAYER NAME\", how =\"left\")\n",
    "dfmaster = dfmaster.merge(dfARTGfinal, on= \"PLAYER NAME\", how =\"left\")\n",
    "dfmaster = dfmaster.merge(dfATGfinal, on= \"PLAYER NAME\", how = \"left\")\n",
    "dfmaster22 = dfmaster\n",
    "%store dfmaster22"
   ]
  },
  {
   "cell_type": "markdown",
   "id": "3694451e",
   "metadata": {},
   "source": []
  }
 ],
 "metadata": {
  "celltoolbar": "Edit Metadata",
  "kernelspec": {
   "display_name": "Python 3",
   "language": "python",
   "name": "python3"
  },
  "language_info": {
   "codemirror_mode": {
    "name": "ipython",
    "version": 3
   },
   "file_extension": ".py",
   "mimetype": "text/x-python",
   "name": "python",
   "nbconvert_exporter": "python",
   "pygments_lexer": "ipython3",
   "version": "3.8.8"
  }
 },
 "nbformat": 4,
 "nbformat_minor": 5
}
